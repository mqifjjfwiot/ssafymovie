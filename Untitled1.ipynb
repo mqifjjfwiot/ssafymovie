{
 "cells": [
  {
   "cell_type": "code",
   "execution_count": 1,
   "id": "f21c1fe4",
   "metadata": {},
   "outputs": [
    {
     "name": "stdout",
     "output_type": "stream",
     "text": [
      "Collecting jupytext\n",
      "  Downloading jupytext-1.13.1-py3-none-any.whl (295 kB)\n",
      "Collecting markdown-it-py~=1.0\n",
      "  Downloading markdown_it_py-1.1.0-py3-none-any.whl (83 kB)\n",
      "Collecting mdit-py-plugins\n",
      "  Downloading mdit_py_plugins-0.2.8-py3-none-any.whl (41 kB)\n",
      "Requirement already satisfied: nbformat in c:\\users\\shkim\\anaconda3\\lib\\site-packages (from jupytext) (5.1.3)\n",
      "Requirement already satisfied: toml in c:\\users\\shkim\\anaconda3\\lib\\site-packages (from jupytext) (0.10.2)\n",
      "Requirement already satisfied: pyyaml in c:\\users\\shkim\\anaconda3\\lib\\site-packages (from jupytext) (5.4.1)\n",
      "Requirement already satisfied: attrs<22,>=19 in c:\\users\\shkim\\anaconda3\\lib\\site-packages (from markdown-it-py~=1.0->jupytext) (21.2.0)\n",
      "Requirement already satisfied: traitlets>=4.1 in c:\\users\\shkim\\anaconda3\\lib\\site-packages (from nbformat->jupytext) (5.0.5)\n",
      "Requirement already satisfied: jupyter-core in c:\\users\\shkim\\anaconda3\\lib\\site-packages (from nbformat->jupytext) (4.7.1)\n",
      "Requirement already satisfied: ipython-genutils in c:\\users\\shkim\\anaconda3\\lib\\site-packages (from nbformat->jupytext) (0.2.0)\n",
      "Requirement already satisfied: jsonschema!=2.5.0,>=2.4 in c:\\users\\shkim\\anaconda3\\lib\\site-packages (from nbformat->jupytext) (3.2.0)\n",
      "Requirement already satisfied: setuptools in c:\\users\\shkim\\anaconda3\\lib\\site-packages (from jsonschema!=2.5.0,>=2.4->nbformat->jupytext) (52.0.0.post20210125)\n",
      "Requirement already satisfied: six>=1.11.0 in c:\\users\\shkim\\anaconda3\\lib\\site-packages (from jsonschema!=2.5.0,>=2.4->nbformat->jupytext) (1.16.0)\n",
      "Requirement already satisfied: pyrsistent>=0.14.0 in c:\\users\\shkim\\anaconda3\\lib\\site-packages (from jsonschema!=2.5.0,>=2.4->nbformat->jupytext) (0.17.3)\n",
      "Requirement already satisfied: pywin32>=1.0 in c:\\users\\shkim\\anaconda3\\lib\\site-packages (from jupyter-core->nbformat->jupytext) (227)\n",
      "Installing collected packages: markdown-it-py, mdit-py-plugins, jupytext\n",
      "Successfully installed jupytext-1.13.1 markdown-it-py-1.1.0 mdit-py-plugins-0.2.8\n",
      "Writing default config to: C:\\Users\\shkim\\.jupyter\\jupyter_notebook_config.py\n"
     ]
    }
   ],
   "source": [
    "!pip install jupytext \n",
    "!jupyter notebook --generate-config"
   ]
  },
  {
   "cell_type": "code",
   "execution_count": null,
   "id": "b0b1fdd7",
   "metadata": {},
   "outputs": [],
   "source": []
  }
 ],
 "metadata": {
  "jupytext": {
   "formats": "ipynb,auto:light"
  },
  "kernelspec": {
   "display_name": "Python 3",
   "language": "python",
   "name": "python3"
  },
  "language_info": {
   "codemirror_mode": {
    "name": "ipython",
    "version": 3
   },
   "file_extension": ".py",
   "mimetype": "text/x-python",
   "name": "python",
   "nbconvert_exporter": "python",
   "pygments_lexer": "ipython3",
   "version": "3.8.10"
  },
  "toc": {
   "base_numbering": 1,
   "nav_menu": {},
   "number_sections": true,
   "sideBar": true,
   "skip_h1_title": false,
   "title_cell": "Table of Contents",
   "title_sidebar": "Contents",
   "toc_cell": false,
   "toc_position": {},
   "toc_section_display": true,
   "toc_window_display": false
  }
 },
 "nbformat": 4,
 "nbformat_minor": 5
}
